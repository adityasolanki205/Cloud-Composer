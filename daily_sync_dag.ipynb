{
 "cells": [
  {
   "cell_type": "code",
   "execution_count": null,
   "metadata": {},
   "outputs": [],
   "source": [
    "import airflow\n",
    "from airflow import DAG\n",
    "from airflow.operators.python_operator import PythonOperator\n",
    "from trigger_job_util import TriggerJobUtil\n",
    "from dag_arguments import DAGArgs\n",
    "import config\n",
    "\n",
    "def daily_sync_etl():\n",
    "    try:\n",
    "        job_name = config.job_name\n",
    "        temp_location = config.temp_location\n",
    "        zone = config.zone\n",
    "        input_data = config.input_data\n",
    "        input_param_name = config.input_param_name\n",
    "        gcs_path = config.template_gcs_path\n",
    "        body = DAGArgs().get_daily_trigger_dataflow_body(job_name,temp_location, zone,input_data,input_param_name)\n",
    "        TriggerJobUtil.trigger_job(gcs_path, body)\n",
    "    except Exception as ex:\n",
    "        print(['Exception', ex])\n",
    "        \n",
    "try:\n",
    "    with DAG(\n",
    "        'database1_to_database2_daily_sync',\n",
    "        default_args=DAGArgs().default_args,\n",
    "        description='DAG for daily sync to cloud sql',\n",
    "        max_active_runs=1,\n",
    "        concurrency=4,\n",
    "        catchup = False,\n",
    "        schedule_interval='@daily',\n",
    "        ) as dag:\n",
    "            task1 = PythonOperator(\n",
    "                    task_id='daily-sync-etl',\n",
    "                    python_callable=daily_sync_etl,\n",
    "                    dag = dag)\n",
    "except IndexError as ex:\n",
    "    logging.debug(\"Exception\",str(ex))\n",
    "    \n",
    "task1"
   ]
  }
 ],
 "metadata": {
  "kernelspec": {
   "display_name": "Python 3",
   "language": "python",
   "name": "python3"
  },
  "language_info": {
   "codemirror_mode": {
    "name": "ipython",
    "version": 3
   },
   "file_extension": ".py",
   "mimetype": "text/x-python",
   "name": "python",
   "nbconvert_exporter": "python",
   "pygments_lexer": "ipython3",
   "version": "3.7.4"
  }
 },
 "nbformat": 4,
 "nbformat_minor": 4
}
