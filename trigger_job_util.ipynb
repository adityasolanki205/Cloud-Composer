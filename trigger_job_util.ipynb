{
 "cells": [
  {
   "cell_type": "code",
   "execution_count": null,
   "metadata": {},
   "outputs": [],
   "source": [
    "from googleapiclient.discovery import build\n",
    "from oauth2client.client import GoogleCredentials\n",
    "import config\n",
    "class TriggerJobUtil:\n",
    "    @staticmethod\n",
    "    def trigger_job(gcs_path, body):\n",
    "        print(\" --------in triggerjobs---------\")\n",
    "        credentials = GoogleCredentials.get_application_default()\n",
    "        service = build('dataflow', 'v1b3', credentials=credentials)\n",
    "        request = service.projects().templates().launch(projectId=config.project_name, gcsPath=config.template_gcs_path, body=body)\n",
    "        response = request.execute()\n",
    "        print(\"-----execute function have been called-------\")\n",
    "        print(response)"
   ]
  }
 ],
 "metadata": {
  "kernelspec": {
   "display_name": "Python 3",
   "language": "python",
   "name": "python3"
  },
  "language_info": {
   "codemirror_mode": {
    "name": "ipython",
    "version": 3
   },
   "file_extension": ".py",
   "mimetype": "text/x-python",
   "name": "python",
   "nbconvert_exporter": "python",
   "pygments_lexer": "ipython3",
   "version": "3.7.4"
  }
 },
 "nbformat": 4,
 "nbformat_minor": 4
}
