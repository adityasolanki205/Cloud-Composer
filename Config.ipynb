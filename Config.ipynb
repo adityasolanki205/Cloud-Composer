{
 "cells": [
  {
   "cell_type": "code",
   "execution_count": null,
   "metadata": {},
   "outputs": [],
   "source": [
    "#Project Configurations\n",
    "project_name='project-id'\n",
    "zone = 'us-central1-a'\n",
    "#template_bucket\n",
    "template_bucket = 'template-bucket-name'\n",
    "#Daily Trigger Dataflow Template Constants\n",
    "job_name ='user-sync-etl'\n",
    "#input param name, depends on what you have defined in your dataflow pipeline\n",
    "input_param_name = input_data\n",
    "# ValueProviders like source table name and sink table name\n",
    "input_data ={\"sourceTable\":\"source_table_name\", \"sinkTable\":\"sink_table_name\"}\n",
    "#Template's GCS path\n",
    "template_gcs_path='gs://{bucket}/dataflow/template/Template_Name'.format(bucket=template_bucket)\n",
    "Temprory path location\n",
    "temp_location='gs://{bucket}/dataflow/template/user-sync-etl/temp'.format(bucket=template_bucket)"
   ]
  }
 ],
 "metadata": {
  "kernelspec": {
   "display_name": "Python 3",
   "language": "python",
   "name": "python3"
  },
  "language_info": {
   "codemirror_mode": {
    "name": "ipython",
    "version": 3
   },
   "file_extension": ".py",
   "mimetype": "text/x-python",
   "name": "python",
   "nbconvert_exporter": "python",
   "pygments_lexer": "ipython3",
   "version": "3.7.4"
  }
 },
 "nbformat": 4,
 "nbformat_minor": 4
}
