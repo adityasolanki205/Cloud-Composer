{
 "cells": [
  {
   "cell_type": "code",
   "execution_count": null,
   "metadata": {},
   "outputs": [],
   "source": [
    "from datetime import timedelta, datetime\n",
    "import json\n",
    "import urllib.parse\n",
    "import config\n",
    "class DAGArgs():\n",
    "    default_args = {\n",
    "            'owner': 'airflow',\n",
    "            'depends_on_past': False,\n",
    "            'start_date': datetime(2019, 09, 30),\n",
    "            'email': ['airflow@example.com'],\n",
    "            'email_on_failure': False,\n",
    "            'email_on_retry': False,\n",
    "            'retries': 3,\n",
    "            'retry_delay': timedelta(minutes=5),\n",
    "            'execution_timeout': timedelta(hours=5),\n",
    "    }\n",
    "def __init__(self, *args, **kwargs):\n",
    "    print(\"in DAG Arguments\")\n",
    "def get_daily_trigger_dataflow_body(self, job_name,temp_location, zone, input_data, input_param_name):\n",
    "    body = {\n",
    "        \"jobName\": \"{jobname}\".format(jobname=job_name),\n",
    "        \"parameters\": {\n",
    "            input_param_name: urllib.parse.quote_plus(json.dumps(input_data))\n",
    "        },\n",
    "        \"environment\": {\n",
    "            \"tempLocation\": temp_location,\n",
    "            \"zone\": zone\n",
    "        }\n",
    "    }\n",
    "    return body"
   ]
  }
 ],
 "metadata": {
  "kernelspec": {
   "display_name": "Python 3",
   "language": "python",
   "name": "python3"
  },
  "language_info": {
   "codemirror_mode": {
    "name": "ipython",
    "version": 3
   },
   "file_extension": ".py",
   "mimetype": "text/x-python",
   "name": "python",
   "nbconvert_exporter": "python",
   "pygments_lexer": "ipython3",
   "version": "3.7.4"
  }
 },
 "nbformat": 4,
 "nbformat_minor": 4
}
