{
 "cells": [
  {
   "cell_type": "code",
   "execution_count": null,
   "metadata": {},
   "outputs": [],
   "source": [
    "from airflow import DAG\n",
    "from airflow.utils.dates import days_ago\n",
    "\n",
    "\n",
    "from airflow.contrib.operators.dataproc_operator import (\n",
    "    DataprocClusterCreateOperator,\n",
    "    DataProcPySparkOperator,\n",
    "    DataprocClusterDeleteOperator,\n",
    ")\n",
    "\n",
    "\n",
    "default_arguments = {\"owner\": \"Put your name\", \"start_date\": days_ago(1)}\n",
    "\n",
    "\n",
    "with DAG(\n",
    "    \"check-Min-temp\",\n",
    "    schedule_interval=\"0 20 * * *\",\n",
    "    catchup=False,\n",
    "    default_args=default_arguments,\n",
    "    ) as dag:\n",
    "        create_cluster=DataprocClusterCreateOperator(\n",
    "            task_id='create_cluster',\n",
    "            project_id='Give project ID',\n",
    "            cluster_name='spark-cluster-{{ds_nodash}}',\n",
    "            num_workers=2,\n",
    "            worker_machine_type='n1-standard-2',\n",
    "            storage_bucket=\"dataproc-pyspark-bucket\",\n",
    "            zone=\"zone info\",\n",
    "        )\n",
    "\n",
    "\n",
    "        calculate_min_temp=DataProcPySparkOperator(\n",
    "            task_id='calculate_min_temp',\n",
    "            main='gs://[GCS Bucket]/dataproc.py',\n",
    "            arguments=['gs://[input file path]','gs://[output file path]/output'],\n",
    "            cluster_name=\"spark-cluster-{{ ds_nodash }}\",\n",
    "            dataproc_pyspark_jars=\"gs://spark-lib/bigquery/spark-bigquery-latest.jar\",\n",
    "        )\n",
    "\n",
    "\n",
    "        delete_cluster=DataprocClusterDeleteOperator(\n",
    "            task_id=\"delete_cluster\",\n",
    "            project_id=\"beam-290211\",\n",
    "            cluster_name=\"spark-cluster-{{ ds_nodash }}\",\n",
    "            trigger_rule=\"all_done\",\n",
    "        )\n",
    "\n",
    "\n",
    "\n",
    "create_cluster>>calculate_min_temp>>delete_cluster"
   ]
  }
 ],
 "metadata": {
  "kernelspec": {
   "display_name": "Python 3",
   "language": "python",
   "name": "python3"
  },
  "language_info": {
   "codemirror_mode": {
    "name": "ipython",
    "version": 3
   },
   "file_extension": ".py",
   "mimetype": "text/x-python",
   "name": "python",
   "nbconvert_exporter": "python",
   "pygments_lexer": "ipython3",
   "version": "3.7.4"
  }
 },
 "nbformat": 4,
 "nbformat_minor": 4
}
